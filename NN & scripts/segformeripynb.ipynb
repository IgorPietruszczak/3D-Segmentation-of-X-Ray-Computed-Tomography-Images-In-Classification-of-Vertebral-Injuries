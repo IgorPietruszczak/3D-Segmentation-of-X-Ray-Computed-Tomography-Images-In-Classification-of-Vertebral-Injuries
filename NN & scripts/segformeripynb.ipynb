{
 "cells": [
  {
   "cell_type": "code",
   "execution_count": 1,
   "id": "47daa128",
   "metadata": {},
   "outputs": [
    {
     "name": "stdout",
     "output_type": "stream",
     "text": [
      "CUDA dostępne: True\n",
      "Ilość GPU: 1\n",
      "Nazwa GPU: NVIDIA GeForce RTX 3070\n"
     ]
    }
   ],
   "source": [
    "import torch\n",
    "print(\"CUDA dostępne:\", torch.cuda.is_available())\n",
    "print(\"Ilość GPU:\", torch.cuda.device_count())\n",
    "print(\"Nazwa GPU:\", torch.cuda.get_device_name(0) if torch.cuda.is_available() else \"Brak\")\n"
   ]
  },
  {
   "cell_type": "code",
   "execution_count": 2,
   "id": "d4c9799f",
   "metadata": {},
   "outputs": [
    {
     "name": "stdout",
     "output_type": "stream",
     "text": [
      "img: 601 TETNICZA iDose (3) segmentation.nii\n",
      "msk: 601 TETNICZA iDose (3) segmentation.nii\n"
     ]
    }
   ],
   "source": [
    "from pathlib import Path\n",
    "import numpy as np, nibabel as nib\n",
    "import torch, torch.nn.functional as F\n",
    "from torch.utils.data import Dataset, DataLoader, random_split\n",
    "import matplotlib.pyplot as plt\n",
    "from tqdm import tqdm\n",
    "\n",
    "from transformers import SegformerForSemanticSegmentation, SegformerFeatureExtractor, SegformerConfig\n",
    "\n",
    "# <<< PODAJ SWÓJ FOLDER Z PLIKAMI >>>\n",
    "data_dir = Path(r\"D:\\Skany\\Dataset\\D, E\")  # <- zmień\n",
    "img_path = next(data_dir.glob(\"*Dose*.nii\"))               # np. ... (3).nii\n",
    "msk_path = next(data_dir.glob(\"*segmentation*.nii\"))       # np. ... segmentation.nii\n",
    "\n",
    "print(\"img:\", img_path.name)\n",
    "print(\"msk:\", msk_path.name)\n",
    "\n",
    "device = torch.device(\"cuda\" if torch.cuda.is_available() else \"cpu\")\n",
    "target_size = (512, 512)\n"
   ]
  },
  {
   "cell_type": "code",
   "execution_count": 3,
   "id": "e0332cbe",
   "metadata": {},
   "outputs": [
    {
     "name": "stdout",
     "output_type": "stream",
     "text": [
      "raw stats img: 0.0 15.0 0.0526026152074337 0.6941153407096863\n",
      "shapes (D,H,W): (512, 512, 643) (512, 512, 643)\n",
      "etykiety: [0, 1, 2, 3, 4, 5, 6, 7, 8, 9, 10, 11, 12, 13, 14, 15]  → num_labels: 16\n"
     ]
    }
   ],
   "source": [
    "def load_nifti_safe(p: Path) -> np.ndarray:\n",
    "    nii = nib.load(str(p))\n",
    "    hdr = nii.header\n",
    "    arr = nii.get_fdata(dtype=np.float32)\n",
    "\n",
    "    # jeśli wyszły same zera / stała → użyj danych nieskalowanych\n",
    "    if not np.isfinite(arr).any() or np.nanstd(arr) == 0:\n",
    "        raw = nii.dataobj.get_unscaled().astype(np.float32)\n",
    "        slope = float(hdr.get('scl_slope', 1.0) or 1.0)\n",
    "        inter = float(hdr.get('scl_inter', 0.0) or 0.0)\n",
    "        slope = slope if np.isfinite(slope) and slope != 0.0 else 1.0\n",
    "        inter = inter if np.isfinite(inter) else 0.0\n",
    "        arr = raw * slope + inter\n",
    "    return arr\n",
    "\n",
    "def to_DHW(a: np.ndarray) -> np.ndarray:\n",
    "    a = np.asarray(a)\n",
    "    if a.ndim != 3:\n",
    "        raise ValueError(f\"Spodziewam się 3D, mam {a.shape}\")\n",
    "    # heurystyka ustawiania (D,H,W)\n",
    "    if a.shape[0] <= min(a.shape[1], a.shape[2]):\n",
    "        return a\n",
    "    if a.shape[-1] <= min(a.shape[0], a.shape[1]):\n",
    "        return np.moveaxis(a, -1, 0)\n",
    "    return np.moveaxis(a, 2, 0)\n",
    "\n",
    "img = load_nifti_safe(img_path).astype(np.float32)\n",
    "msk = nib.load(str(msk_path)).get_fdata().astype(np.int32)\n",
    "\n",
    "print(\"raw stats img:\", float(img.min()), float(img.max()), float(img.mean()), float(img.std()))\n",
    "\n",
    "img = to_DHW(img)\n",
    "msk = to_DHW(msk)\n",
    "\n",
    "print(\"shapes (D,H,W):\", img.shape, msk.shape)\n",
    "unique_labels = np.unique(msk).astype(int).tolist()\n",
    "num_labels = int(max(unique_labels)) + 1\n",
    "print(\"etykiety:\", unique_labels, \" → num_labels:\", num_labels)\n"
   ]
  },
  {
   "cell_type": "code",
   "execution_count": 4,
   "id": "00d100ec",
   "metadata": {},
   "outputs": [
    {
     "name": "stdout",
     "output_type": "stream",
     "text": [
      "batch x: torch.Size([4, 3, 512, 512]) torch.float32 0.0 1.0\n",
      "batch y: torch.Size([4, 512, 512]) torch.int64 tensor([0, 1, 2, 3, 4, 5, 6, 7, 8, 9])\n"
     ]
    }
   ],
   "source": [
    "class NiftiSlices(Dataset):\n",
    "    def __init__(self, volume, mask, axis=0, resize_to=(512,512), keep_only_nonempty=True):\n",
    "        assert volume.shape == mask.shape\n",
    "        self.imgs = np.moveaxis(volume, axis, 0)     # (N,H,W)\n",
    "        self.msks = np.moveaxis(mask,   axis, 0)\n",
    "        self.resize_to = resize_to\n",
    "\n",
    "        if keep_only_nonempty:\n",
    "            idx = [i for i in range(len(self.imgs)) if self.msks[i].max() > 0]\n",
    "            if len(idx) >= 10:\n",
    "                self.imgs = self.imgs[idx]\n",
    "                self.msks = self.msks[idx]\n",
    "\n",
    "    def __len__(self): \n",
    "        return len(self.imgs)\n",
    "\n",
    "    def __getitem__(self, idx):\n",
    "        # ---- obraz ----\n",
    "        xx = self.imgs[idx].astype(np.float32)  # (H,W)\n",
    "        p1, p99 = np.percentile(xx, (1, 99))\n",
    "        xx = np.clip(xx, p1, p99)\n",
    "        xx = (xx - xx.min()) / (xx.max() - xx.min() + 1e-8)  # [0,1] per-slice\n",
    "\n",
    "        x = torch.from_numpy(xx)[None, ...]                  # (1,H,W)\n",
    "        x = F.interpolate(x[None], size=self.resize_to, mode=\"bilinear\", align_corners=False).squeeze(0)\n",
    "        x = x.repeat(3, 1, 1).float()                        # (3,H,W) – SegFormer (pretrained) oczekuje 3 kanałów\n",
    "\n",
    "        # ---- maska ----\n",
    "        y = torch.from_numpy(self.msks[idx]).long()          # (H,W)\n",
    "        y = F.interpolate(y[None, None].float(), size=self.resize_to, mode=\"nearest\").squeeze().long()  # (H,W)\n",
    "\n",
    "        return x, y\n",
    "\n",
    "dataset = NiftiSlices(img, msk, axis=0, resize_to=target_size)\n",
    "\n",
    "n_val = max(1, int(0.2*len(dataset)))\n",
    "n_train = len(dataset) - n_val\n",
    "train_set, val_set = random_split(dataset, [n_train, n_val], generator=torch.Generator().manual_seed(0))\n",
    "\n",
    "train_loader = DataLoader(train_set, batch_size=4, shuffle=True,  num_workers=0)\n",
    "val_loader   = DataLoader(val_set,   batch_size=4, shuffle=False, num_workers=0)\n",
    "\n",
    "xb, yb = next(iter(train_loader))\n",
    "print(\"batch x:\", xb.shape, xb.dtype, xb.min().item(), xb.max().item())\n",
    "print(\"batch y:\", yb.shape, yb.dtype, yb.unique()[:10])\n"
   ]
  },
  {
   "cell_type": "code",
   "execution_count": 5,
   "id": "76dd5e0f",
   "metadata": {},
   "outputs": [],
   "source": [
    "config = SegformerConfig(\n",
    "    num_labels=num_labels,\n",
    "    id2label={i: str(i) for i in range(num_labels)},\n",
    "    label2id={str(i): i for i in range(num_labels)},\n",
    "    hidden_sizes=[32, 64, 160, 256],   # B0\n",
    "    depths=[2, 2, 2, 2],\n",
    "    sr_ratios=[8, 4, 2, 1],\n",
    "    patch_sizes=[7, 3, 3, 3],\n",
    "    decoder_hidden_size=256,\n",
    "    # num_channels domyślnie = 3 – pasuje do naszego datasetu\n",
    ")\n",
    "\n",
    "model = SegformerForSemanticSegmentation(config).to(device)\n",
    "\n",
    "# „FeatureExtractor” nie robi u nas nic (resize/normalize wyłączyliśmy), ale utrzymujemy dla zgodności API\n",
    "processor = SegformerFeatureExtractor(do_resize=False, do_normalize=False)\n",
    "\n",
    "optim = torch.optim.AdamW(model.parameters(), lr=3e-4, weight_decay=1e-4)\n",
    "epochs = 5\n"
   ]
  },
  {
   "cell_type": "code",
   "execution_count": 6,
   "id": "ac145a81",
   "metadata": {},
   "outputs": [
    {
     "name": "stderr",
     "output_type": "stream",
     "text": [
      "                                               \r"
     ]
    },
    {
     "name": "stdout",
     "output_type": "stream",
     "text": [
      "Epoka 1: train_loss=nan  val_loss=nan\n"
     ]
    },
    {
     "name": "stderr",
     "output_type": "stream",
     "text": [
      "                                               \r"
     ]
    },
    {
     "name": "stdout",
     "output_type": "stream",
     "text": [
      "Epoka 2: train_loss=nan  val_loss=nan\n"
     ]
    },
    {
     "name": "stderr",
     "output_type": "stream",
     "text": [
      "                                               \r"
     ]
    },
    {
     "name": "stdout",
     "output_type": "stream",
     "text": [
      "Epoka 3: train_loss=nan  val_loss=nan\n"
     ]
    },
    {
     "name": "stderr",
     "output_type": "stream",
     "text": [
      "                                               \r"
     ]
    },
    {
     "name": "stdout",
     "output_type": "stream",
     "text": [
      "Epoka 4: train_loss=nan  val_loss=nan\n"
     ]
    },
    {
     "name": "stderr",
     "output_type": "stream",
     "text": [
      "                                               "
     ]
    },
    {
     "name": "stdout",
     "output_type": "stream",
     "text": [
      "Epoka 5: train_loss=nan  val_loss=nan\n"
     ]
    },
    {
     "name": "stderr",
     "output_type": "stream",
     "text": [
      "\r"
     ]
    }
   ],
   "source": [
    "def run_epoch(loader, train=True):\n",
    "    model.train(train)\n",
    "    total, n = 0.0, 0\n",
    "    for x, y in tqdm(loader, leave=False):\n",
    "        x = x.to(device).float()                 # (B,3,H,W)\n",
    "        y = y.to(device)                         # (B,H,W)\n",
    "        outputs = model(pixel_values=x, labels=y)\n",
    "        loss = outputs.loss\n",
    "\n",
    "        if train:\n",
    "            optim.zero_grad()\n",
    "            loss.backward()\n",
    "            optim.step()\n",
    "\n",
    "        total += loss.item() * x.size(0)\n",
    "        n += x.size(0)\n",
    "    return total / max(1, n)\n",
    "\n",
    "for e in range(1, epochs+1):\n",
    "    tr = run_epoch(train_loader, True)\n",
    "    vl = run_epoch(val_loader, False)\n",
    "    print(f\"Epoka {e}: train_loss={tr:.4f}  val_loss={vl:.4f}\")\n"
   ]
  },
  {
   "cell_type": "code",
   "execution_count": 7,
   "id": "c8aff7cc",
   "metadata": {},
   "outputs": [
    {
     "data": {
      "image/png": "[encoded data removed]",
      "text/plain": [
       "<Figure size 1000x1200 with 9 Axes>"
      ]
     },
     "metadata": {},
     "output_type": "display_data"
    }
   ],
   "source": [
    "def to01(t):\n",
    "    t = t - t.min()\n",
    "    return (t / (t.max() + 1e-8)).cpu().numpy()\n",
    "\n",
    "model.eval()\n",
    "with torch.no_grad():\n",
    "    x, y = next(iter(val_loader))\n",
    "    x = x.to(device).float()\n",
    "    logits = model(pixel_values=x).logits  # (B, C, H, W)\n",
    "    preds = logits.argmax(1).cpu()         # (B, H, W)\n",
    "\n",
    "k = min(3, x.size(0))\n",
    "fig, axes = plt.subplots(k, 3, figsize=(10, 4*k))\n",
    "for i in range(k):\n",
    "    axes[i,0].imshow(to01(x[i,0].cpu()), cmap='gray'); axes[i,0].set_title(\"wejście\")\n",
    "    axes[i,1].imshow(y[i].cpu(), vmin=0, vmax=num_labels-1); axes[i,1].set_title(\"maska GT\")\n",
    "    axes[i,2].imshow(preds[i], vmin=0, vmax=num_labels-1); axes[i,2].set_title(\"pred\")\n",
    "    for j in range(3): axes[i,j].axis('off')\n",
    "plt.tight_layout(); plt.show()\n"
   ]
  },
  {
   "cell_type": "code",
   "execution_count": null,
   "id": "ed90bed4",
   "metadata": {},
   "outputs": [],
   "source": [
    "save_dir = Path(\"segformer_minimal_model\")\n",
    "save_dir.mkdir(exist_ok=True)\n",
    "model.save_pretrained(save_dir)\n",
    "processor.save_pretrained(save_dir)\n",
    "print(\"Zapisano do:\", save_dir.resolve())\n"
   ]
  }
 ],
 "metadata": {
  "kernelspec": {
   "display_name": "segformer_env_v2",
   "language": "python",
   "name": "python3"
  },
  "language_info": {
   "codemirror_mode": {
    "name": "ipython",
    "version": 3
   },
   "file_extension": ".py",
   "mimetype": "text/x-python",
   "name": "python",
   "nbconvert_exporter": "python",
   "pygments_lexer": "ipython3",
   "version": "3.10.18"
  }
 },
 "nbformat": 4,
 "nbformat_minor": 5
}
